{
 "cells": [
  {
   "cell_type": "code",
   "execution_count": 50,
   "id": "7187d0ed",
   "metadata": {},
   "outputs": [],
   "source": [
    "import re\n",
    "import pickle\n",
    "import random\n",
    "\n",
    "import numpy as np\n",
    "import pandas as pd\n",
    "import torch\n",
    "import torch.nn as nn"
   ]
  },
  {
   "cell_type": "code",
   "execution_count": 9,
   "id": "034b28ae",
   "metadata": {},
   "outputs": [
    {
     "data": {
      "text/plain": [
       "500"
      ]
     },
     "metadata": {},
     "output_type": "display_data"
    }
   ],
   "source": [
    "with open(\"plots_text.pickle\", \"rb\") as pickle_in:\n",
    "    movie_plots = pickle.load(pickle_in)\n",
    "    \n",
    "display(len(movie_plots))"
   ]
  },
  {
   "cell_type": "code",
   "execution_count": 3,
   "id": "265671e3",
   "metadata": {},
   "outputs": [
    {
     "data": {
      "text/plain": [
       "'barry is a private with the 101st airborne division of the united states army, stationed at fort campbell, kentucky. calpernia works as a showgirl at a transgender revue in nashville, tennessee when the two met in 1999. barry\\'s roommate justin fisher  brings barry to the club where she performs. when barry and calpernia begin seeing each other regularly, fisher begins spreading rumors on base about their relationship, which appeared to be a violation of the military\\'s \"don\\'t ask, don\\'t tell\" policy about discussing the sexual orientation of military personnel. barry faces increasing harassment and pressure, which explode into violence over fourth of july weekend. while calpernia performs in a pageant in nashville, barry is beaten to death in his sleep with a baseball bat by calvin glover, who had been goaded by fisher into committing the crime. the film ends with a discussion of the aftermath.'"
      ]
     },
     "execution_count": 3,
     "metadata": {},
     "output_type": "execute_result"
    }
   ],
   "source": [
    "movie_plots[0]"
   ]
  },
  {
   "cell_type": "code",
   "execution_count": 11,
   "id": "33801b18",
   "metadata": {},
   "outputs": [
    {
     "data": {
      "text/html": [
       "<div>\n",
       "<style scoped>\n",
       "    .dataframe tbody tr th:only-of-type {\n",
       "        vertical-align: middle;\n",
       "    }\n",
       "\n",
       "    .dataframe tbody tr th {\n",
       "        vertical-align: top;\n",
       "    }\n",
       "\n",
       "    .dataframe thead th {\n",
       "        text-align: right;\n",
       "    }\n",
       "</style>\n",
       "<table border=\"1\" class=\"dataframe\">\n",
       "  <thead>\n",
       "    <tr style=\"text-align: right;\">\n",
       "      <th></th>\n",
       "      <th>plot_summary</th>\n",
       "    </tr>\n",
       "  </thead>\n",
       "  <tbody>\n",
       "    <tr>\n",
       "      <th>0</th>\n",
       "      <td>barry is a private with the 101st airborne div...</td>\n",
       "    </tr>\n",
       "    <tr>\n",
       "      <th>1</th>\n",
       "      <td>chinese exorcist one-eyebrow priest  leads a p...</td>\n",
       "    </tr>\n",
       "    <tr>\n",
       "      <th>2</th>\n",
       "      <td>while playing baseball on a busy street in gre...</td>\n",
       "    </tr>\n",
       "    <tr>\n",
       "      <th>3</th>\n",
       "      <td>thadeous and fabious ([[danny mcbride  are son...</td>\n",
       "    </tr>\n",
       "    <tr>\n",
       "      <th>4</th>\n",
       "      <td>{{plot}} jung su-ji is a quiet, mysterious bea...</td>\n",
       "    </tr>\n",
       "    <tr>\n",
       "      <th>...</th>\n",
       "      <td>...</td>\n",
       "    </tr>\n",
       "    <tr>\n",
       "      <th>495</th>\n",
       "      <td>the film opens with harlow as a struggling ext...</td>\n",
       "    </tr>\n",
       "    <tr>\n",
       "      <th>496</th>\n",
       "      <td>{{plot}} edgar and alan frog interrupt a half-...</td>\n",
       "    </tr>\n",
       "    <tr>\n",
       "      <th>497</th>\n",
       "      <td>{{copyedit}} after smuggling a strong box of t...</td>\n",
       "    </tr>\n",
       "    <tr>\n",
       "      <th>498</th>\n",
       "      <td>when the existence of a strain of plague  is r...</td>\n",
       "    </tr>\n",
       "    <tr>\n",
       "      <th>499</th>\n",
       "      <td>a village in rural thailand is celebrating loy...</td>\n",
       "    </tr>\n",
       "  </tbody>\n",
       "</table>\n",
       "<p>500 rows × 1 columns</p>\n",
       "</div>"
      ],
      "text/plain": [
       "                                          plot_summary\n",
       "0    barry is a private with the 101st airborne div...\n",
       "1    chinese exorcist one-eyebrow priest  leads a p...\n",
       "2    while playing baseball on a busy street in gre...\n",
       "3    thadeous and fabious ([[danny mcbride  are son...\n",
       "4    {{plot}} jung su-ji is a quiet, mysterious bea...\n",
       "..                                                 ...\n",
       "495  the film opens with harlow as a struggling ext...\n",
       "496  {{plot}} edgar and alan frog interrupt a half-...\n",
       "497  {{copyedit}} after smuggling a strong box of t...\n",
       "498  when the existence of a strain of plague  is r...\n",
       "499  a village in rural thailand is celebrating loy...\n",
       "\n",
       "[500 rows x 1 columns]"
      ]
     },
     "metadata": {},
     "output_type": "display_data"
    }
   ],
   "source": [
    "movie_plots = pd.DataFrame(movie_plots, columns=[\"plot_summary\"])\n",
    "display(movie_plots)"
   ]
  },
  {
   "cell_type": "code",
   "execution_count": 12,
   "id": "7021a9b1",
   "metadata": {},
   "outputs": [],
   "source": [
    "p = re.compile(\"[^a-z' ]\")\n",
    "movie_plots['plot_summary'] = movie_plots['plot_summary'].apply(lambda x: p.sub(\"\", x))"
   ]
  },
  {
   "cell_type": "code",
   "execution_count": 17,
   "id": "7dfaf120",
   "metadata": {},
   "outputs": [],
   "source": [
    "def create_seq(df, seq_len):\n",
    "    lst = []\n",
    "    for plot in df['plot_summary']:\n",
    "        plot_toks = plot.split()\n",
    "        if len(plot_toks) > seq_len:\n",
    "            for i in range(seq_len, len(plot_toks)):\n",
    "                lst.append(plot_toks[i-seq_len: i+1])\n",
    "        else:\n",
    "            lst.append(plot_toks)\n",
    "    return lst"
   ]
  },
  {
   "cell_type": "code",
   "execution_count": 18,
   "id": "330a42cc",
   "metadata": {
    "scrolled": true
   },
   "outputs": [
    {
     "data": {
      "text/plain": [
       "[['barry', 'is', 'a', 'private', 'with', 'the'],\n",
       " ['is', 'a', 'private', 'with', 'the', 'st'],\n",
       " ['a', 'private', 'with', 'the', 'st', 'airborne'],\n",
       " ['private', 'with', 'the', 'st', 'airborne', 'division'],\n",
       " ['with', 'the', 'st', 'airborne', 'division', 'of'],\n",
       " ['the', 'st', 'airborne', 'division', 'of', 'the'],\n",
       " ['st', 'airborne', 'division', 'of', 'the', 'united'],\n",
       " ['airborne', 'division', 'of', 'the', 'united', 'states'],\n",
       " ['division', 'of', 'the', 'united', 'states', 'army'],\n",
       " ['of', 'the', 'united', 'states', 'army', 'stationed'],\n",
       " ['the', 'united', 'states', 'army', 'stationed', 'at'],\n",
       " ['united', 'states', 'army', 'stationed', 'at', 'fort'],\n",
       " ['states', 'army', 'stationed', 'at', 'fort', 'campbell'],\n",
       " ['army', 'stationed', 'at', 'fort', 'campbell', 'kentucky'],\n",
       " ['stationed', 'at', 'fort', 'campbell', 'kentucky', 'calpernia'],\n",
       " ['at', 'fort', 'campbell', 'kentucky', 'calpernia', 'works'],\n",
       " ['fort', 'campbell', 'kentucky', 'calpernia', 'works', 'as'],\n",
       " ['campbell', 'kentucky', 'calpernia', 'works', 'as', 'a'],\n",
       " ['kentucky', 'calpernia', 'works', 'as', 'a', 'showgirl'],\n",
       " ['calpernia', 'works', 'as', 'a', 'showgirl', 'at']]"
      ]
     },
     "metadata": {},
     "output_type": "display_data"
    }
   ],
   "source": [
    "seqs = create_seq(movie_plots, 5)\n",
    "display(seqs[:20])"
   ]
  },
  {
   "cell_type": "code",
   "execution_count": 19,
   "id": "37149c86",
   "metadata": {},
   "outputs": [],
   "source": [
    "x = []\n",
    "y = []\n",
    "\n",
    "for s in seqs:\n",
    "    x.append(\" \".join(s[:-1]))\n",
    "    y.append(\" \".join(s[1:]))"
   ]
  },
  {
   "cell_type": "code",
   "execution_count": 51,
   "id": "3d56b907",
   "metadata": {},
   "outputs": [],
   "source": [
    "def create_dictionary(corpus):\n",
    "    int2tok = {}\n",
    "    \n",
    "    for i, word in enumerate(set(\" \".join(corpus).split())):\n",
    "        int2tok[i] = word\n",
    "        \n",
    "    tok2int = {tok: i for i, tok in int2tok.items()}\n",
    "    return int2tok, tok2int\n",
    "\n",
    "int2tok, tok2int = create_dictionary(movie_plots['plot_summary'])\n",
    "vocab_size = len(int2tok)"
   ]
  },
  {
   "cell_type": "code",
   "execution_count": 42,
   "id": "2cfc1706",
   "metadata": {
    "scrolled": true
   },
   "outputs": [],
   "source": [
    "def vectorize(seq):\n",
    "    return [tok2int[word] for word in seq.split()]\n",
    "\n",
    "x_vector = np.array([vectorize(i) for i in x])\n",
    "y_vector = np.array([vectorize(i) for i in y])"
   ]
  },
  {
   "cell_type": "code",
   "execution_count": 104,
   "id": "be4c26a7",
   "metadata": {},
   "outputs": [],
   "source": [
    "def make_batches(x_arr, y_arr, batch_size):\n",
    "    place = 0\n",
    "        \n",
    "    while place <= x_arr.shape[0] - batch_size:\n",
    "        x = x_arr[place:place+batch_size, :]\n",
    "        y = y_arr[place:place+batch_size, :]\n",
    "        place += batch_size\n",
    "        yield x, y"
   ]
  },
  {
   "cell_type": "code",
   "execution_count": 105,
   "id": "b6a9abf8",
   "metadata": {},
   "outputs": [],
   "source": [
    "class WordLSTM(nn.Module):\n",
    "    def __init__(self, n_hidden=64, n_layers=4, drop_prob=0.3, lr=0.001):\n",
    "        super().__init__()\n",
    "        \n",
    "        self.drop_prob = drop_prob\n",
    "        self.n_layers = n_layers\n",
    "        self.n_hidden = n_hidden\n",
    "        self.lr = lr\n",
    "        \n",
    "        self.emb_layer = nn.Embedding(vocab_size, 42)\n",
    "        self.lstm = nn.LSTM(42, n_hidden, n_layers, dropout=drop_prob, batch_first=True)\n",
    "        self.dropout = nn.Dropout(drop_prob)\n",
    "        self.fc = nn.Linear(n_hidden, vocab_size)\n",
    "        \n",
    "    def forward(self, x, hidden):\n",
    "        embedded = self.emb_layer(x)\n",
    "        lstm_output, hidden = self.lstm(embedded, hidden)\n",
    "        out = self.dropout(lstm_output)\n",
    "        out = out.reshape(-1, self.n_hidden)\n",
    "        out = self.fc(out)\n",
    "        return out, hidden\n",
    "    \n",
    "    def init_hidden(self, batch_size):\n",
    "        weight = next(self.parameters()).data\n",
    "        hidden = (weight.new(self.n_layers, batch_size, self.n_hidden).zero_(),\n",
    "                  weight.new(self.n_layers, batch_size, self.n_hidden).zero_())\n",
    "        return hidden"
   ]
  },
  {
   "cell_type": "code",
   "execution_count": 106,
   "id": "c31649be",
   "metadata": {},
   "outputs": [
    {
     "name": "stdout",
     "output_type": "stream",
     "text": [
      "WordLSTM(\n",
      "  (emb_layer): Embedding(16592, 42)\n",
      "  (lstm): LSTM(42, 64, num_layers=4, batch_first=True, dropout=0.3)\n",
      "  (dropout): Dropout(p=0.3, inplace=False)\n",
      "  (fc): Linear(in_features=64, out_features=16592, bias=True)\n",
      ")\n"
     ]
    }
   ],
   "source": [
    "del net\n",
    "net = WordLSTM()\n",
    "print(net)"
   ]
  },
  {
   "cell_type": "code",
   "execution_count": 71,
   "id": "bed7a0fb",
   "metadata": {},
   "outputs": [
    {
     "data": {
      "text/plain": [
       "152644"
      ]
     },
     "execution_count": 71,
     "metadata": {},
     "output_type": "execute_result"
    }
   ],
   "source": [
    "len(x_vector)"
   ]
  },
  {
   "cell_type": "code",
   "execution_count": 107,
   "id": "631177ed",
   "metadata": {},
   "outputs": [],
   "source": [
    "def train(net, epochs, batch_size=32, lr=0.001, clip=1, print_every=256):\n",
    "    opt = torch.optim.Adam(net.parameters(), lr=lr)\n",
    "    loss_func = nn.CrossEntropyLoss()\n",
    "    \n",
    "    counter = 0\n",
    "    net.train()\n",
    "    \n",
    "    for e in range(epochs):\n",
    "        h = net.init_hidden(batch_size)\n",
    "        \n",
    "        for x, y in make_batches(x_vector, y_vector, batch_size):\n",
    "            counter += 1\n",
    "            inputs, targets = torch.from_numpy(x), torch.from_numpy(y)\n",
    "            h = tuple([each.data for each in h])\n",
    "            net.zero_grad()\n",
    "            output, h = net(inputs, h)\n",
    "            loss = loss_func(output, targets.view(-1))\n",
    "            loss.backward()\n",
    "            nn.utils.clip_grad_norm(net.parameters(), clip)\n",
    "            opt.step()\n",
    "            \n",
    "            if counter % print_every == 0:\n",
    "                print(f'Epoch: {e+1}/{epochs}',\n",
    "                     f'Step: {counter}...')"
   ]
  },
  {
   "cell_type": "code",
   "execution_count": 108,
   "id": "c8bef1ab",
   "metadata": {},
   "outputs": [
    {
     "name": "stderr",
     "output_type": "stream",
     "text": [
      "/var/folders/zw/_xq0j3sx3wj38y3ls5nklrzw0000gn/T/ipykernel_27081/1326977404.py:19: UserWarning: torch.nn.utils.clip_grad_norm is now deprecated in favor of torch.nn.utils.clip_grad_norm_.\n",
      "  nn.utils.clip_grad_norm(net.parameters(), clip)\n"
     ]
    },
    {
     "name": "stdout",
     "output_type": "stream",
     "text": [
      "Epoch: 1/1 Step: 256...\n",
      "Epoch: 1/1 Step: 512...\n",
      "Epoch: 1/1 Step: 768...\n",
      "Epoch: 1/1 Step: 1024...\n",
      "Epoch: 1/1 Step: 1280...\n",
      "Epoch: 1/1 Step: 1536...\n",
      "Epoch: 1/1 Step: 1792...\n",
      "Epoch: 1/1 Step: 2048...\n",
      "Epoch: 1/1 Step: 2304...\n",
      "Epoch: 1/1 Step: 2560...\n",
      "Epoch: 1/1 Step: 2816...\n",
      "Epoch: 1/1 Step: 3072...\n",
      "Epoch: 1/1 Step: 3328...\n",
      "Epoch: 1/1 Step: 3584...\n",
      "Epoch: 1/1 Step: 3840...\n",
      "Epoch: 1/1 Step: 4096...\n",
      "Epoch: 1/1 Step: 4352...\n",
      "Epoch: 1/1 Step: 4608...\n"
     ]
    }
   ],
   "source": [
    "train(net, epochs=1)"
   ]
  },
  {
   "cell_type": "code",
   "execution_count": 109,
   "id": "13d36568",
   "metadata": {},
   "outputs": [],
   "source": [
    "def predict(net, tok, h=None):\n",
    "    x = np.array([[tok2int[tok]]])\n",
    "    inputs = torch.from_numpy(x)\n",
    "    \n",
    "    h = tuple([each.data for each in h])\n",
    "    out, h = net(inputs, h)\n",
    "    p = nn.functional.softmax(out, dim=1).data\n",
    "    \n",
    "    p = p.numpy()\n",
    "    p = p.reshape(p.shape[1],)\n",
    "    top5idx = p.argsort()[-5:][::-1]\n",
    "    sampled_tok_idx = top5idx[random.sample([0,1,2,3,4],1)[0]]\n",
    "    \n",
    "    return int2tok[sampled_tok_idx], h\n",
    "\n",
    "def sample(net, size, prime):\n",
    "    net.eval()\n",
    "    h = net.init_hidden(1)\n",
    "    toks = prime.split()\n",
    "    \n",
    "    for tok in toks:\n",
    "        nextTok, h = predict(net, tok, h=h)\n",
    "        \n",
    "    toks.append(nextTok)\n",
    "    \n",
    "    for i in range(size-1):\n",
    "        nextTok, h = predict(net, toks[-1], h)\n",
    "        toks.append(nextTok)\n",
    "        \n",
    "    return ' '.join(toks)"
   ]
  },
  {
   "cell_type": "code",
   "execution_count": 120,
   "id": "05461e13",
   "metadata": {},
   "outputs": [
    {
     "data": {
      "text/plain": [
       "'star wars the the is and and and and a the and is and'"
      ]
     },
     "execution_count": 120,
     "metadata": {},
     "output_type": "execute_result"
    }
   ],
   "source": [
    "sample(net, 12, 'star wars')"
   ]
  },
  {
   "cell_type": "code",
   "execution_count": null,
   "id": "16b98b9c",
   "metadata": {},
   "outputs": [],
   "source": []
  }
 ],
 "metadata": {
  "kernelspec": {
   "display_name": "Python [conda env:MovieSummaryNLG] *",
   "language": "python",
   "name": "conda-env-MovieSummaryNLG-py"
  },
  "language_info": {
   "codemirror_mode": {
    "name": "ipython",
    "version": 3
   },
   "file_extension": ".py",
   "mimetype": "text/x-python",
   "name": "python",
   "nbconvert_exporter": "python",
   "pygments_lexer": "ipython3",
   "version": "3.10.6"
  }
 },
 "nbformat": 4,
 "nbformat_minor": 5
}
